{
 "cells": [
  {
   "cell_type": "code",
   "execution_count": 3,
   "metadata": {},
   "outputs": [],
   "source": [
    "import requests, uuid, json\n",
    "import azure.cognitiveservices.speech as speechsdk\n",
    "\n",
    "# Add your key and endpoint\n",
    "key = \"9257553e89ae411c893a771aabbf5359\"\n",
    "endpoint = \"https://api.cognitive.microsofttranslator.com\"\n",
    "location = \"centralindia\"\n"
   ]
  },
  {
   "cell_type": "code",
   "execution_count": 54,
   "metadata": {},
   "outputs": [],
   "source": [
    "# List of languages (this is a subset, you can add more)\n",
    "def langcode(lang):\n",
    "    languages = {\n",
    "    \"Afrikaans\": \"af\", \"Albanian\": \"sq\", \"Amharic\": \"am\", \"Arabic\": \"ar\",\n",
    "    \"Armenian\": \"hy\", \"Assamese\": \"as\", \"Azerbaijani (Latin)\": \"az\", \"Bangla\": \"bn\",\n",
    "    \"Bashkir\": \"ba\", \"Basque\": \"eu\", \"Bhojpuri\": \"bho\", \"Bodo\": \"brx\", \"Bosnian (Latin)\": \"bs\",\n",
    "    \"Bulgarian\": \"bg\", \"Cantonese (Traditional)\": \"yue\", \"Catalan\": \"ca\",\n",
    "    \"Chinese (Literary)\": \"lzh\", \"Chinese Simplified\": \"zh-Hans\", \"Chinese Traditional\": \"zh-Hant\",\n",
    "    \"Shona\": \"sn\", \"Croatian\": \"hr\", \"Czech\": \"cs\", \"Danish\": \"da\", \"Dari\": \"prs\",\n",
    "    \"Divehi\": \"dv\", \"Dogri\": \"doi\", \"Dutch\": \"nl\", \"English\": \"en\", \"Estonian\": \"et\",\n",
    "    \"Faroese\": \"fo\", \"Fijian\": \"fj\", \"Filipino\": \"fil\", \"Finnish\": \"fi\", \"French\": \"fr\",\n",
    "    \"French (Canada)\": \"fr-ca\", \"Galician\": \"gl\", \"Georgian\": \"ka\", \"German\": \"de\",\n",
    "    \"Greek\": \"el\", \"Gujarati\": \"gu\", \"Haitian Creole\": \"ht\", \"Hausa\": \"ha\",\n",
    "    \"Hebrew\": \"he\", \"Hindi\": \"hi\", \"Hmong Daw (Latin)\": \"mww\", \"Hungarian\": \"hu\",\n",
    "    \"Icelandic\": \"is\", \"Igbo\": \"ig\", \"Indonesian\": \"id\", \"Inuinnaqtun\": \"ikt\",\n",
    "    \"Inuktitut\": \"iu\", \"Inuktitut (Latin)\": \"iu-Latn\", \"Irish\": \"ga\", \"Italian\": \"it\",\n",
    "    \"Japanese\": \"ja\", \"Kannada\": \"kn\", \"Kashmiri\": \"ks\", \"Kazakh\": \"kk\", \"Khmer\": \"km\",\n",
    "    \"Kinyarwanda\": \"rw\", \"Klingon (Latin)\": \"tlh-Latn\", \"Klingon (plqaD)\": \"tlh-Piqd\",\n",
    "    \"Konkani\": \"gom\", \"Korean\": \"ko\", \"Kurdish (Central)\": \"ku\", \"Kurdish (Northern)\": \"kmr\",\n",
    "    \"Kyrgyz (Cyrillic)\": \"ky\", \"Lao\": \"lo\", \"Latvian\": \"lv\", \"Lithuanian\": \"lt\",\n",
    "    \"Lingala\": \"ln\", \"Lower Sorbian\": \"dsb\", \"Luganda\": \"lug\", \"Macedonian\": \"mk\",\n",
    "    \"Maithili\": \"mai\", \"Malagasy\": \"mg\", \"Malay (Latin)\": \"ms\", \"Malayalam\": \"ml\",\n",
    "    \"Maltese\": \"mt\", \"Maori\": \"mi\", \"Marathi\": \"mr\", \"Mongolian (Cyrillic)\": \"mn-Cyrl\",\n",
    "    \"Mongolian (Traditional)\": \"mn-Mong\", \"Nepali\": \"ne\", \"Norwegian\": \"nb\", \"Nyanja\": \"ny\",\n",
    "    \"Odia\": \"or\", \"Pashto\": \"ps\", \"Polish\": \"pl\", \"Portuguese (Brazil)\": \"pt-BR\",\n",
    "    \"Portuguese (Portugal)\": \"pt-PT\", \"Punjabi\": \"pa\", \"Quechua\": \"qu\", \"Romanian\": \"ro\",\n",
    "    \"Russian\": \"ru\", \"Samoan\": \"sm\", \"Sanskrit\": \"sa\", \"Serbian (Cyrillic)\": \"sr-Cyrl\",\n",
    "    \"Serbian (Latin)\": \"sr-Latn\", \"Sesotho\": \"st\", \"Shona\": \"sn\", \"Sindhi\": \"sd\",\n",
    "    \"Sinhala\": \"si\", \"Slovak\": \"sk\", \"Slovenian\": \"sl\", \"Somali\": \"so\", \"Spanish\": \"es\",\n",
    "    \"Sundanese (Latin)\": \"su\", \"Swahili\": \"sw\", \"Swati\": \"ss\", \"Swedish\": \"sv\",\n",
    "    \"Tajik\": \"tg\", \"Tamil\": \"ta\", \"Tatar\": \"tt\", \"Telugu\": \"te\", \"Thai\": \"th\",\n",
    "    \"Tigrinya\": \"ti\", \"Tswana\": \"tn\", \"Turkish\": \"tr\", \"Turkmen\": \"tk\", \"Ukrainian\": \"uk\",\n",
    "    \"Urdu\": \"ur\", \"Uzbek (Cyrillic)\": \"uz-Cyrl\", \"Uzbek (Latin)\": \"uz-Latn\", \"Vietnamese\": \"vi\",\n",
    "    \"Xhosa\": \"xh\", \"Yoruba\": \"yo\", \"Zulu\": \"zu\"\n",
    "    }\n",
    "    \n",
    "    for i,j in languages.items():\n",
    "        if i == str(lang):\n",
    "            return j\n",
    "        \n",
    "\n",
    "\n",
    "\n",
    "languages = {\n",
    "    \"Afrikaans\": \"af\", \"Albanian\": \"sq\", \"Amharic\": \"am\", \"Arabic\": \"ar\",\n",
    "    \"Armenian\": \"hy\", \"Assamese\": \"as\", \"Azerbaijani (Latin)\": \"az\", \"Bangla\": \"bn\",\n",
    "    \"Bashkir\": \"ba\", \"Basque\": \"eu\", \"Bhojpuri\": \"bho\", \"Bodo\": \"brx\", \"Bosnian (Latin)\": \"bs\",\n",
    "    \"Bulgarian\": \"bg\", \"Cantonese (Traditional)\": \"yue\", \"Catalan\": \"ca\",\n",
    "    \"Chinese (Literary)\": \"lzh\", \"Chinese Simplified\": \"zh-Hans\", \"Chinese Traditional\": \"zh-Hant\",\n",
    "    \"Shona\": \"sn\", \"Croatian\": \"hr\", \"Czech\": \"cs\", \"Danish\": \"da\", \"Dari\": \"prs\",\n",
    "    \"Divehi\": \"dv\", \"Dogri\": \"doi\", \"Dutch\": \"nl\", \"English\": \"en\", \"Estonian\": \"et\",\n",
    "    \"Faroese\": \"fo\", \"Fijian\": \"fj\", \"Filipino\": \"fil\", \"Finnish\": \"fi\", \"French\": \"fr\",\n",
    "    \"French (Canada)\": \"fr-ca\", \"Galician\": \"gl\", \"Georgian\": \"ka\", \"German\": \"de\",\n",
    "    \"Greek\": \"el\", \"Gujarati\": \"gu\", \"Haitian Creole\": \"ht\", \"Hausa\": \"ha\",\n",
    "    \"Hebrew\": \"he\", \"Hindi\": \"hi\", \"Hmong Daw (Latin)\": \"mww\", \"Hungarian\": \"hu\",\n",
    "    \"Icelandic\": \"is\", \"Igbo\": \"ig\", \"Indonesian\": \"id\", \"Inuinnaqtun\": \"ikt\",\n",
    "    \"Inuktitut\": \"iu\", \"Inuktitut (Latin)\": \"iu-Latn\", \"Irish\": \"ga\", \"Italian\": \"it\",\n",
    "    \"Japanese\": \"ja\", \"Kannada\": \"kn\", \"Kashmiri\": \"ks\", \"Kazakh\": \"kk\", \"Khmer\": \"km\",\n",
    "    \"Kinyarwanda\": \"rw\", \"Klingon (Latin)\": \"tlh-Latn\", \"Klingon (plqaD)\": \"tlh-Piqd\",\n",
    "    \"Konkani\": \"gom\", \"Korean\": \"ko\", \"Kurdish (Central)\": \"ku\", \"Kurdish (Northern)\": \"kmr\",\n",
    "    \"Kyrgyz (Cyrillic)\": \"ky\", \"Lao\": \"lo\", \"Latvian\": \"lv\", \"Lithuanian\": \"lt\",\n",
    "    \"Lingala\": \"ln\", \"Lower Sorbian\": \"dsb\", \"Luganda\": \"lug\", \"Macedonian\": \"mk\",\n",
    "    \"Maithili\": \"mai\", \"Malagasy\": \"mg\", \"Malay (Latin)\": \"ms\", \"Malayalam\": \"ml\",\n",
    "    \"Maltese\": \"mt\", \"Maori\": \"mi\", \"Marathi\": \"mr\", \"Mongolian (Cyrillic)\": \"mn-Cyrl\",\n",
    "    \"Mongolian (Traditional)\": \"mn-Mong\", \"Nepali\": \"ne\", \"Norwegian\": \"nb\", \"Nyanja\": \"ny\",\n",
    "    \"Odia\": \"or\", \"Pashto\": \"ps\", \"Polish\": \"pl\", \"Portuguese (Brazil)\": \"pt-BR\",\n",
    "    \"Portuguese (Portugal)\": \"pt-PT\", \"Punjabi\": \"pa\", \"Quechua\": \"qu\", \"Romanian\": \"ro\",\n",
    "    \"Russian\": \"ru\", \"Samoan\": \"sm\", \"Sanskrit\": \"sa\", \"Serbian (Cyrillic)\": \"sr-Cyrl\",\n",
    "    \"Serbian (Latin)\": \"sr-Latn\", \"Sesotho\": \"st\", \"Shona\": \"sn\", \"Sindhi\": \"sd\",\n",
    "    \"Sinhala\": \"si\", \"Slovak\": \"sk\", \"Slovenian\": \"sl\", \"Somali\": \"so\", \"Spanish\": \"es\",\n",
    "    \"Sundanese (Latin)\": \"su\", \"Swahili\": \"sw\", \"Swati\": \"ss\", \"Swedish\": \"sv\",\n",
    "    \"Tajik\": \"tg\", \"Tamil\": \"ta\", \"Tatar\": \"tt\", \"Telugu\": \"te\", \"Thai\": \"th\",\n",
    "    \"Tigrinya\": \"ti\", \"Tswana\": \"tn\", \"Turkish\": \"tr\", \"Turkmen\": \"tk\", \"Ukrainian\": \"uk\",\n",
    "    \"Urdu\": \"ur\", \"Uzbek (Cyrillic)\": \"uz-Cyrl\", \"Uzbek (Latin)\": \"uz-Latn\", \"Vietnamese\": \"vi\",\n",
    "    \"Xhosa\": \"xh\", \"Yoruba\": \"yo\", \"Zulu\": \"zu\"\n",
    "    }\n",
    "\n",
    "def translate_text(input_language,text, target_language):\n",
    "    input_language = langcode(input_language)\n",
    "    print(input_language)   \n",
    "    path = '/translate'\n",
    "    constructed_url = endpoint + path\n",
    "\n",
    "    params = {\n",
    "        'api-version': '3.0',\n",
    "        'from':input_language,\n",
    "        'to': [langcode(target_language)]\n",
    "    }\n",
    "\n",
    "    headers = {\n",
    "        'Ocp-Apim-Subscription-Key': key,\n",
    "        'Ocp-Apim-Subscription-Region': location,\n",
    "        'Content-type': 'application/json',\n",
    "        'X-ClientTraceId': str(uuid.uuid4())\n",
    "    }\n",
    "\n",
    "    body = [{'text': text}]\n",
    "\n",
    "    request = requests.post(constructed_url, params=params, headers=headers, json=body)\n",
    "    response = request.json()\n",
    "    \n",
    "    # Extract the translation\n",
    "    translation = response[0][\"translations\"][0]['text']\n",
    "    return translation\n",
    "\n",
    "\n"
   ]
  },
  {
   "cell_type": "code",
   "execution_count": 59,
   "metadata": {},
   "outputs": [
    {
     "name": "stdout",
     "output_type": "stream",
     "text": [
      "en\n"
     ]
    },
    {
     "data": {
      "text/plain": [
       "'Nous participons au Smart India Hackathon'"
      ]
     },
     "execution_count": 59,
     "metadata": {},
     "output_type": "execute_result"
    }
   ],
   "source": [
    "translate_text('English', \"We are in the Smart India Hackathon\", \"French\")"
   ]
  },
  {
   "cell_type": "code",
   "execution_count": 62,
   "metadata": {},
   "outputs": [
    {
     "name": "stdout",
     "output_type": "stream",
     "text": [
      "Speak into your microphone.\n",
      "Recognized: Hello, my name is Mayank Sharma.\n"
     ]
    }
   ],
   "source": [
    "import os\n",
    "import azure.cognitiveservices.speech as speechsdk\n",
    "\n",
    "def recognize_from_microphone():\n",
    "    # This example requires environment variables named \"SPEECH_KEY\" and \"SPEECH_REGION\"\n",
    "    \n",
    "    speech_config = speechsdk.SpeechConfig(subscription='9b3e0e85ccad4bc0b61e7d6b5b3d841f', region='centralindia')\n",
    "    speech_config.speech_recognition_language=\"en-US\"\n",
    "\n",
    "    audio_config = speechsdk.audio.AudioConfig(use_default_microphone=True)\n",
    "    speech_recognizer = speechsdk.SpeechRecognizer(speech_config=speech_config, audio_config=audio_config)\n",
    "\n",
    "    print(\"Speak into your microphone.\")\n",
    "    speech_recognition_result = speech_recognizer.recognize_once_async().get()\n",
    "\n",
    "    if speech_recognition_result.reason == speechsdk.ResultReason.RecognizedSpeech:\n",
    "        print(\"Recognized: {}\".format(speech_recognition_result.text))\n",
    "    elif speech_recognition_result.reason == speechsdk.ResultReason.NoMatch:\n",
    "        print(\"No speech could be recognized: {}\".format(speech_recognition_result.no_match_details))\n",
    "    elif speech_recognition_result.reason == speechsdk.ResultReason.Canceled:\n",
    "        cancellation_details = speech_recognition_result.cancellation_details\n",
    "        print(\"Speech Recognition canceled: {}\".format(cancellation_details.reason))\n",
    "        if cancellation_details.reason == speechsdk.CancellationReason.Error:\n",
    "            print(\"Error details: {}\".format(cancellation_details.error_details))\n",
    "            print(\"Did you set the speech resource key and region values?\")\n",
    "\n",
    "recognize_from_microphone()"
   ]
  }
 ],
 "metadata": {
  "kernelspec": {
   "display_name": "env",
   "language": "python",
   "name": "python3"
  },
  "language_info": {
   "codemirror_mode": {
    "name": "ipython",
    "version": 3
   },
   "file_extension": ".py",
   "mimetype": "text/x-python",
   "name": "python",
   "nbconvert_exporter": "python",
   "pygments_lexer": "ipython3",
   "version": "3.12.1"
  }
 },
 "nbformat": 4,
 "nbformat_minor": 2
}
